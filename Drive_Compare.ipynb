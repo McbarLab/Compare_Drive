{
 "cells": [
  {
   "cell_type": "code",
   "execution_count": 1,
   "id": "b111a645",
   "metadata": {},
   "outputs": [],
   "source": [
    "# Set the pair of directories for compare\n",
    "drive1_path = \"E:\"\n",
    "drive2_path = \"H:\""
   ]
  },
  {
   "cell_type": "code",
   "execution_count": 2,
   "id": "c7554a41",
   "metadata": {
    "scrolled": true
   },
   "outputs": [
    {
     "name": "stdout",
     "output_type": "stream",
     "text": [
      "The drives have the same files.\n"
     ]
    }
   ],
   "source": [
    "import os\n",
    "\n",
    "def get_files(directory):\n",
    "    files = []\n",
    "    for dirpath, _, filenames in os.walk(directory):\n",
    "        for filename in filenames:\n",
    "            files.append(filename)  # Append only the filename instead of the absolute path\n",
    "    return files\n",
    "\n",
    "def compare_drives(drive1, drive2):\n",
    "    files_drive1 = get_files(drive1)\n",
    "    files_drive2 = get_files(drive2)\n",
    "\n",
    "    unique_files_drive1 = set(files_drive1) - set(files_drive2)\n",
    "    unique_files_drive2 = set(files_drive2) - set(files_drive1)\n",
    "\n",
    "    if len(unique_files_drive1) == 0 and len(unique_files_drive2) == 0:\n",
    "        print(\"The drives have the same files.\")\n",
    "    else:\n",
    "        print(\"The drives do not have the same files.\")\n",
    "        print(\"Unique files in drive 1:\", unique_files_drive1)\n",
    "        print(\"Unique files in drive 2:\", unique_files_drive2)\n",
    "\n",
    "        \n",
    "# The actual comparing step should take no more than 30 seconds, for a pair of 3TB each\n",
    "compare_drives(drive1_path, drive2_path)\n"
   ]
  }
 ],
 "metadata": {
  "kernelspec": {
   "display_name": "Python 3 (ipykernel)",
   "language": "python",
   "name": "python3"
  },
  "language_info": {
   "codemirror_mode": {
    "name": "ipython",
    "version": 3
   },
   "file_extension": ".py",
   "mimetype": "text/x-python",
   "name": "python",
   "nbconvert_exporter": "python",
   "pygments_lexer": "ipython3",
   "version": "3.9.13"
  }
 },
 "nbformat": 4,
 "nbformat_minor": 5
}
