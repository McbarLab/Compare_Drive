{
 "cells": [
  {
   "cell_type": "code",
   "execution_count": 1,
   "id": "c7554a41",
   "metadata": {
    "scrolled": true
   },
   "outputs": [
    {
     "name": "stdout",
     "output_type": "stream",
     "text": [
      "The drives have the same files with identical content.\n"
     ]
    }
   ],
   "source": [
    "import os\n",
    "import hashlib\n",
    "\n",
    "def get_files(directory):\n",
    "    files = []\n",
    "    for dirpath, _, filenames in os.walk(directory):\n",
    "        for filename in filenames:\n",
    "            filepath = os.path.join(dirpath, filename)\n",
    "            files.append(filepath)\n",
    "    return files\n",
    "\n",
    "def calculate_checksum(file):\n",
    "    hasher = hashlib.md5()\n",
    "    with open(file, 'rb') as f:\n",
    "        while True:\n",
    "            data = f.read(8192)\n",
    "            if not data:\n",
    "                break\n",
    "            hasher.update(data)\n",
    "    return hasher.hexdigest()\n",
    "\n",
    "def compare_drives(drive1, drive2):\n",
    "    files_drive1 = get_files(drive1)\n",
    "    files_drive2 = get_files(drive2)\n",
    "\n",
    "    common_files = set(files_drive1) & set(files_drive2)\n",
    "    different_files = []\n",
    "\n",
    "    for file in common_files:\n",
    "        file_drive1 = os.path.join(drive1, file)\n",
    "        file_drive2 = os.path.join(drive2, file)\n",
    "\n",
    "        checksum_drive1 = calculate_checksum(file_drive1)\n",
    "        checksum_drive2 = calculate_checksum(file_drive2)\n",
    "\n",
    "        if checksum_drive1 != checksum_drive2:\n",
    "            different_files.append(file)\n",
    "\n",
    "    if not different_files:\n",
    "        print(\"The drives have the same files with identical content.\")\n",
    "    else:\n",
    "        print(\"The drives have some files with different content:\")\n",
    "        for file in different_files:\n",
    "            print(file)\n",
    "\n",
    "drive1_path = \"E:\"\n",
    "drive2_path = \"H:\"\n",
    "\n",
    "compare_drives(drive1_path, drive2_path)"
   ]
  }
 ],
 "metadata": {
  "kernelspec": {
   "display_name": "Python 3 (ipykernel)",
   "language": "python",
   "name": "python3"
  },
  "language_info": {
   "codemirror_mode": {
    "name": "ipython",
    "version": 3
   },
   "file_extension": ".py",
   "mimetype": "text/x-python",
   "name": "python",
   "nbconvert_exporter": "python",
   "pygments_lexer": "ipython3",
   "version": "3.9.13"
  }
 },
 "nbformat": 4,
 "nbformat_minor": 5
}
